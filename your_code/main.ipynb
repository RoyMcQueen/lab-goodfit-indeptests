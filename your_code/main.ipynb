{
 "cells": [
  {
   "cell_type": "markdown",
   "metadata": {},
   "source": [
    "## Question 1\n",
    "The following table indicates the number of 6-point scores in an American rugby match in the 1979 season.\n",
    "\n",
    "![](table1.png)\n",
    "\n",
    "Based on these results, we create a Poisson distribution with the sample mean parameter  = 2.435. Is there any reason to believe that at a .05 level the number of scores is a Poisson variable?"
   ]
  },
  {
   "cell_type": "code",
   "execution_count": 10,
   "metadata": {},
   "outputs": [],
   "source": [
    "import numpy as np\n",
    "import scipy.stats as st"
   ]
  },
  {
   "cell_type": "code",
   "execution_count": 11,
   "metadata": {},
   "outputs": [
    {
     "name": "stdout",
     "output_type": "stream",
     "text": [
      "[0.08759775 0.21330051 0.25969338 0.21078446 0.12831504 0.06248942\n",
      " 0.02536029]\n",
      "[0.08759775 0.21330051 0.25969338 0.21078446 0.12831504 0.06248942\n",
      " 0.02536029 0.01245915]\n"
     ]
    },
    {
     "data": {
      "text/plain": [
       "1.0"
      ]
     },
     "execution_count": 11,
     "metadata": {},
     "output_type": "execute_result"
    }
   ],
   "source": [
    "# H0: Distribution Observed ~ Poisson(2.435) \n",
    "\n",
    "# H1: Distribution Observed !~ Geom(2.435) \n",
    "\n",
    "alpha = 0.05\n",
    "\n",
    "\n",
    "OV = np.array([35,99,104,110,62,25,10,3]) # observed values\n",
    "\n",
    "from scipy.stats import poisson\n",
    "\n",
    "lamb = 2.435\n",
    "\n",
    "poisson_dist = poisson(lamb)\n",
    "\n",
    "poisson_pmfs = np.array([poisson_dist.pmf(i) for i in range(0,7)]) # calculating the PMFs up until 6\n",
    "\n",
    "print(poisson_pmfs) ## we only have 10 values in the array, but we have 11 values in the OV.. this is because we still need to compute the tail (the > 7 part)\n",
    "                ## we'll need to calculate it separately and append it to our array of pmfs\n",
    "\n",
    "\n",
    "with_tail = np.append(poisson_pmfs,poisson_dist.sf(6)) ## the tail we get with the safe function. 10 until the end\n",
    "\n",
    "print(with_tail) ## now we have all the values of the pmfs with the tail\n",
    "\n",
    "np.sum(with_tail) # this has to sum to 1 \n"
   ]
  },
  {
   "cell_type": "code",
   "execution_count": 13,
   "metadata": {},
   "outputs": [
    {
     "name": "stdout",
     "output_type": "stream",
     "text": [
      "Power_divergenceResult(statistic=6.491310681109792, pvalue=0.48368890685373034)\n"
     ]
    },
    {
     "data": {
      "text/plain": [
       "False"
      ]
     },
     "execution_count": 13,
     "metadata": {},
     "output_type": "execute_result"
    }
   ],
   "source": [
    "EV = with_tail * 448\n",
    "EV\n",
    "\n",
    "\n",
    "stat, p_value = st.chisquare(f_obs=OV,f_exp=EV)\n",
    "\n",
    "print(st.chisquare(f_obs=OV,f_exp=EV))\n",
    "\n",
    "p_value < alpha \n",
    "\n",
    "# In this case the p_value is higher than alpha so we cannot reject the null hypothesis. We can say that our observations likely came from a population that\n",
    "# follows a distribution poisson distribution with parameter 2.435"
   ]
  },
  {
   "cell_type": "markdown",
   "metadata": {},
   "source": [
    "## BONUS/OPTIONAL - Question 2\n",
    "Let's analyze a discrete distribution. To analyze the number of defective items in a factory in the city of Medellín, we took a random sample of n = 60 articles and observed the number of defectives in the following table:\n",
    "\n",
    "![](table2.png)\n",
    "\n",
    "A poissón distribution was proposed since it is defined for x = 0,1,2,3, .... using the following model:\n",
    "\n",
    "![](image1.png)\n",
    "\n",
    "For some extra insights check the following link: https://online.stat.psu.edu/stat504/node/63/ \n",
    "\n",
    "Does the distribution of defective items follow this distribution?"
   ]
  },
  {
   "cell_type": "code",
   "execution_count": 2,
   "metadata": {},
   "outputs": [],
   "source": [
    "# your code here"
   ]
  },
  {
   "cell_type": "markdown",
   "metadata": {},
   "source": [
    "## Question 3\n",
    "A quality control engineer takes a sample of 10 tires that come out of an assembly line, and would like to verify on the basis of the data that follows, if the number of tires with defects observed over 200 days, if it is true that 5% of all tires have defects (that is, if the sample comes from a binomial population with n = 10 and p = 0.05). \n",
    "\n",
    "![](table3.png)\n"
   ]
  },
  {
   "cell_type": "code",
   "execution_count": 21,
   "metadata": {},
   "outputs": [
    {
     "name": "stdout",
     "output_type": "stream",
     "text": [
      "[0.5987369392383787, 0.3151247048623047, 0.08613835589931637]\n"
     ]
    },
    {
     "data": {
      "text/plain": [
       "0.9999999999999998"
      ]
     },
     "execution_count": 21,
     "metadata": {},
     "output_type": "execute_result"
    }
   ],
   "source": [
    "alpha = 0.05\n",
    "\n",
    "\n",
    "OV = np.array([138,53,9]) # observed values\n",
    "\n",
    "from scipy.stats import binom\n",
    "\n",
    "n = 10\n",
    "p = 0.05\n",
    "\n",
    "binom_dist = binom(n,p)\n",
    "\n",
    "binom_pmfs = [binom_dist.pmf(0), binom_dist.pmf(1), binom_dist.sf(1)]\n",
    "\n",
    "print(binom_pmfs)\n",
    "\n",
    "np.sum(binom_pmfs)\n"
   ]
  },
  {
   "cell_type": "code",
   "execution_count": 25,
   "metadata": {},
   "outputs": [
    {
     "name": "stdout",
     "output_type": "stream",
     "text": [
      "Power_divergenceResult(statistic=8.30617951954277, pvalue=0.015715783395951168)\n"
     ]
    },
    {
     "data": {
      "text/plain": [
       "True"
      ]
     },
     "execution_count": 25,
     "metadata": {},
     "output_type": "execute_result"
    }
   ],
   "source": [
    "EV = np.array(binom_pmfs) * 200\n",
    "\n",
    "\n",
    "stat, p_value = st.chisquare(f_obs=OV,f_exp=EV)\n",
    "\n",
    "print(st.chisquare(f_obs=OV,f_exp=EV))\n",
    "\n",
    "p_value < alpha \n",
    "\n",
    "# The p_value is smaller than our significance level so we can reject the null hypothesis and say that the values observed do not significantly\n",
    "# follow a binomial distribution"
   ]
  },
  {
   "cell_type": "markdown",
   "metadata": {},
   "source": [
    "## Question 4\n",
    "A researcher gathers information about the patterns of Physical Activity of children in the fifth grade of primary school of a public school. He defines three categories of physical activity (Low, Medium, High). He also inquires about the regular consumption of sugary drinks at school, and defines two categories (Yes = consumed, No = not consumed). We would like to evaluate if there is an association between patterns of physical activity and the consumption of sugary drinks for the children of this school, at a level of 5% significance. The results are in the following table: \n",
    "\n",
    "![](table4.png)"
   ]
  },
  {
   "cell_type": "code",
   "execution_count": 32,
   "metadata": {},
   "outputs": [
    {
     "name": "stdout",
     "output_type": "stream",
     "text": [
      "(10.712198008709638, 0.004719280137040844, 2, array([[24.08421053, 19.91578947],\n",
      "       [19.70526316, 16.29473684],\n",
      "       [ 8.21052632,  6.78947368]]))\n"
     ]
    }
   ],
   "source": [
    "## Association Test\n",
    "\n",
    "# H0: consumption of sugary drinks are independent of level of physical activity\n",
    "# H1: consumption of sugary drinks are dependent of level of physical activity\n",
    "\n",
    "alpha = 0.05\n",
    "\n",
    "## we just need the observed values now:\n",
    "\n",
    "\n",
    "table = np.array([[32,12],\n",
    "              [14,22],\n",
    "              [6,9],\n",
    "              ])\n",
    "\n",
    "stat, p_value, ddof, ev = st.chi2_contingency(table)\n",
    "\n",
    "print(st.chi2_contingency(table))"
   ]
  },
  {
   "cell_type": "code",
   "execution_count": 34,
   "metadata": {},
   "outputs": [
    {
     "data": {
      "text/plain": [
       "True"
      ]
     },
     "execution_count": 34,
     "metadata": {},
     "output_type": "execute_result"
    }
   ],
   "source": [
    "p_value < alpha\n",
    "\n",
    "# therewere we can reject the null hypothesis and say that consumption of sugary drinks and the level of phyiscal activity are dependent of each other"
   ]
  },
  {
   "cell_type": "code",
   "execution_count": null,
   "metadata": {},
   "outputs": [],
   "source": []
  }
 ],
 "metadata": {
  "kernelspec": {
   "display_name": "Python 3.9.12 ('julyironhack')",
   "language": "python",
   "name": "python3"
  },
  "language_info": {
   "codemirror_mode": {
    "name": "ipython",
    "version": 3
   },
   "file_extension": ".py",
   "mimetype": "text/x-python",
   "name": "python",
   "nbconvert_exporter": "python",
   "pygments_lexer": "ipython3",
   "version": "3.9.12"
  },
  "vscode": {
   "interpreter": {
    "hash": "d4f28bf35b1054d239a9ee1bfa6fb652dd82e0e5a8ae6f2857cd28eda2674f2d"
   }
  }
 },
 "nbformat": 4,
 "nbformat_minor": 2
}
